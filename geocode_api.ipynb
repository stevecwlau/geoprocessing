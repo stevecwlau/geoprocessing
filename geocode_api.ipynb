{
 "cells": [
  {
   "cell_type": "code",
   "execution_count": null,
   "id": "b21562d2-cc22-4161-89dc-cfc38d185a25",
   "metadata": {
    "tags": []
   },
   "outputs": [],
   "source": [
    "'''\n",
    "    File name: hklandsd_geocode_api.py\n",
    "    Author: Steve Lau\n",
    "    Date created: 10/05/2022\n",
    "    Date last modified: 10/05/2022\n",
    "    Python Version: 3.7\n",
    "'''"
   ]
  },
  {
   "cell_type": "code",
   "execution_count": 2,
   "id": "b7afb27d-2ed7-4aa9-9225-885d558d21e8",
   "metadata": {
    "tags": []
   },
   "outputs": [],
   "source": [
    "# Setting up libraries\n",
    "import pandas as pd\n",
    "import requests\n",
    "import urllib\n",
    "import json\n",
    "import fiona\n",
    "from shapely.geometry import MultiPoint, Point, Polygon, shape\n",
    "from shapely.geometry.polygon import Polygon"
   ]
  },
  {
   "cell_type": "code",
   "execution_count": 3,
   "id": "fe5301d6-afe3-4c3a-8c3e-f6b7a2d9629b",
   "metadata": {},
   "outputs": [],
   "source": [
    "# Defining input and output files\n",
    "input_filename = \"...\\input_filename.csv\"\n",
    "# Defining output file here.\n",
    "output_filename = \"...\\\\output_filename.csv\""
   ]
  },
  {
   "cell_type": "code",
   "execution_count": null,
   "id": "6b01aaa3-0ef4-420d-9a9d-37278d7de195",
   "metadata": {},
   "outputs": [],
   "source": [
    "# Reading data to a Pandas Dataframe\n",
    "df = pd.read_csv(input_filename, encoding=\"utf-8\").copy()"
   ]
  },
  {
   "cell_type": "code",
   "execution_count": 5,
   "id": "9e5c7cad-d964-4b44-b723-c9187effa041",
   "metadata": {
    "tags": []
   },
   "outputs": [],
   "source": [
    "# Concatenating \"Building Name\" and \"Address\" fields into a list.\n",
    "# addresses = (df[\"Building Name\"]+ \", \" + df[\"Address\"]).tolist()\n",
    "addresses = df[\"Site_Address\"].tolist()\n",
    "districts = df[\"district_correct\"].tolist()"
   ]
  },
  {
   "cell_type": "code",
   "execution_count": 6,
   "id": "b40618d8-4b42-4619-9ffc-36155d2037d1",
   "metadata": {
    "tags": []
   },
   "outputs": [],
   "source": [
    "# All looped values will be in dict format - converting to list by creating two empty lists for each attribute\n",
    "name = []\n",
    "address = []\n",
    "xcoords = []\n",
    "ycoords = []\n",
    "\n",
    "# Looping each row of addresses to get the x and y coordinates.\n",
    "for a, d in zip(addresses, districts):\n",
    "    # Set up your Geocoding url.\n",
    "    base_url = \"https://geodata.gov.hk/gs/api/v1.0.0/locationSearch\"\n",
    "    endpoint = f\"{base_url}?q={urllib.parse.quote_plus(str(a))}\"\n",
    "    # Ping for the results.\n",
    "    res = requests.get(endpoint)\n",
    "    # Results will be in JSON format - convert to dict using json functionality.\n",
    "    data = json.loads(res.content)\n",
    "    \n",
    "    if len(data) == 0:\n",
    "        output = {\n",
    "            name.append(\"None\"),\n",
    "            address.append(\"None\"),\n",
    "            xcoords.append(\"None\"),\n",
    "            ycoords.append(\"None\")\n",
    "        }\n",
    "        \n",
    "    else:        \n",
    "        shp_dir = fiona.open(f\"F:\\\\python\\\\geospatial_scripts\\\\vector_translate\\\\ESRI Shapefile\\HKGS_Dataset_2016-Population-By-census-Statistics-By-District-Council-District_2019-12-05-0800-00_fullset\\\\{d}.shp\")\n",
    "        multi = next(iter(shp_dir))\n",
    "\n",
    "        for i in data:\n",
    "            r_name = i[\"nameZH\"]\n",
    "            r_address = i[\"addressZH\"]\n",
    "            r_x = i[\"x\"]\n",
    "            r_y = i[\"y\"]\n",
    "            point = Point(r_x, r_y)\n",
    "            check_i = point.within(shape(multi['geometry']))\n",
    "            if check_i is not True:\n",
    "                if i == data[-1]:\n",
    "                    output = {\n",
    "                        name.append(\"None\"),\n",
    "                        address.append(\"None\"),\n",
    "                        xcoords.append(\"None\"),\n",
    "                        ycoords.append(\"None\")\n",
    "                    }\n",
    "                else:\n",
    "                    continue\n",
    "            else:\n",
    "                name.append(r_name)\n",
    "                address.append(r_address)\n",
    "                xcoords.append(r_x)\n",
    "                ycoords.append(r_y)\n",
    "                break"
   ]
  },
  {
   "cell_type": "code",
   "execution_count": null,
   "id": "15049678-ed73-4228-8e3e-bb8a21ae90ea",
   "metadata": {},
   "outputs": [],
   "source": [
    "# Creating new columns for each attribute and grab those values\n",
    "df[\"gc_name\"] = name\n",
    "df[\"gc_address\"] = address\n",
    "df[\"coord_x\"] = xcoords\n",
    "df[\"coord_y\"] = ycoords\n",
    "\n",
    "# Previewing dataframe in Jupyter Notebook/Jupyter Lab\n",
    "df.head(10)"
   ]
  },
  {
   "cell_type": "code",
   "execution_count": 8,
   "id": "30e30140-3ff1-4594-bcfd-c842c5f74dd9",
   "metadata": {},
   "outputs": [],
   "source": [
    "# Outputing dataframe into CSV output file\n",
    "pd.DataFrame(df).to_csv(output_filename, encoding=\"utf_8_sig\")"
   ]
  }
 ],
 "metadata": {
  "kernelspec": {
   "display_name": "hackathon",
   "language": "python",
   "name": "hackathon"
  },
  "language_info": {
   "codemirror_mode": {
    "name": "ipython",
    "version": 3
   },
   "file_extension": ".py",
   "mimetype": "text/x-python",
   "name": "python",
   "nbconvert_exporter": "python",
   "pygments_lexer": "ipython3",
   "version": "3.7.13"
  }
 },
 "nbformat": 4,
 "nbformat_minor": 5
}
